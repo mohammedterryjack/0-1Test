{
 "cells": [
  {
   "cell_type": "code",
   "execution_count": null,
   "metadata": {},
   "outputs": [],
   "source": [
    "from experiments.eca_classification import classify_eca_rules\n",
    "\n",
    "results = list(classify_eca_rules(\n",
    "    n_angles=10,\n",
    "    lattice_width=637,\n",
    "    n_iterations=50000,\n",
    "    ignore_initial_transient=10,\n",
    "    initial_condition=157772325949337114751228396077633682068852574612949832419054851897545068335997284508864138640431125523412626177597802569043207131753005708372421948440114274698313298513533339618679949586869846\n",
    "))"
   ]
  },
  {
   "cell_type": "code",
   "execution_count": null,
   "metadata": {},
   "outputs": [],
   "source": [
    "results"
   ]
  }
 ],
 "metadata": {
  "language_info": {
   "name": "python"
  },
  "orig_nbformat": 4
 },
 "nbformat": 4,
 "nbformat_minor": 2
}
